{
 "cells": [
  {
   "cell_type": "code",
   "execution_count": null,
   "id": "0eeab4db",
   "metadata": {},
   "outputs": [
    {
     "name": "stderr",
     "output_type": "stream",
     "text": [
      "/home/paritosh97/.conda/envs/diffusion/lib/python3.13/site-packages/tqdm/auto.py:21: TqdmWarning: IProgress not found. Please update jupyter and ipywidgets. See https://ipywidgets.readthedocs.io/en/stable/user_install.html\n",
      "  from .autonotebook import tqdm as notebook_tqdm\n"
     ]
    },
    {
     "name": "stdout",
     "output_type": "stream",
     "text": [
      "Using device: cuda\n"
     ]
    },
    {
     "ename": "AcceleratorError",
     "evalue": "HIP error: invalid device function\nSearch for `hipErrorInvalidDeviceFunction' in https://docs.nvidia.com/cuda/cuda-runtime-api/group__HIPRT__TYPES.html for more information.\nHIP kernel errors might be asynchronously reported at some other API call, so the stacktrace below might be incorrect.\nFor debugging consider passing AMD_SERIALIZE_KERNEL=3\nCompile with `TORCH_USE_HIP_DSA` to enable device-side assertions.\n",
     "output_type": "error",
     "traceback": [
      "\u001b[31m---------------------------------------------------------------------------\u001b[39m",
      "\u001b[31mAcceleratorError\u001b[39m                          Traceback (most recent call last)",
      "\u001b[36mCell\u001b[39m\u001b[36m \u001b[39m\u001b[32mIn[1]\u001b[39m\u001b[32m, line 21\u001b[39m\n\u001b[32m     19\u001b[39m tokenizer = CLIPTokenizer(\u001b[33m\"\u001b[39m\u001b[33m../data/vocab.json\u001b[39m\u001b[33m\"\u001b[39m, merges_file=\u001b[33m\"\u001b[39m\u001b[33m../data/tokenizer_merges.txt\u001b[39m\u001b[33m\"\u001b[39m)\n\u001b[32m     20\u001b[39m model_file = \u001b[33m\"\u001b[39m\u001b[33m../data/v1-5-pruned-emaonly.ckpt\u001b[39m\u001b[33m\"\u001b[39m\n\u001b[32m---> \u001b[39m\u001b[32m21\u001b[39m models = \u001b[43mmodel_loader\u001b[49m\u001b[43m.\u001b[49m\u001b[43mpreload_models_from_standard_weights\u001b[49m\u001b[43m(\u001b[49m\u001b[43mmodel_file\u001b[49m\u001b[43m,\u001b[49m\u001b[43m \u001b[49m\u001b[43mdevice\u001b[49m\u001b[43m)\u001b[49m\n",
      "\u001b[36mFile \u001b[39m\u001b[32m~/Desktop/diffusion/stable_diffusion/model_loader.py:9\u001b[39m, in \u001b[36mpreload_models_from_standard_weights\u001b[39m\u001b[34m(ckpt_path, device)\u001b[39m\n\u001b[32m      7\u001b[39m \u001b[38;5;28;01mdef\u001b[39;00m\u001b[38;5;250m \u001b[39m\u001b[34mpreload_models_from_standard_weights\u001b[39m(ckpt_path, device):\n\u001b[32m----> \u001b[39m\u001b[32m9\u001b[39m     state_dict = \u001b[43mmodel_converter\u001b[49m\u001b[43m.\u001b[49m\u001b[43mload_from_standard_weights\u001b[49m\u001b[43m(\u001b[49m\u001b[43mckpt_path\u001b[49m\u001b[43m,\u001b[49m\u001b[43m \u001b[49m\u001b[43mdevice\u001b[49m\u001b[43m)\u001b[49m\n\u001b[32m     11\u001b[39m     encoder = VAE_Encoder().to(device)\n\u001b[32m     12\u001b[39m     encoder.load_state_dict(state_dict[\u001b[33m\"\u001b[39m\u001b[33mencoder\u001b[39m\u001b[33m\"\u001b[39m], strict=\u001b[38;5;28;01mTrue\u001b[39;00m)\n",
      "\u001b[36mFile \u001b[39m\u001b[32m~/Desktop/diffusion/stable_diffusion/model_converter.py:1009\u001b[39m, in \u001b[36mload_from_standard_weights\u001b[39m\u001b[34m(input_file, device)\u001b[39m\n\u001b[32m   1007\u001b[39m converted[\u001b[33m'\u001b[39m\u001b[33mclip\u001b[39m\u001b[33m'\u001b[39m][\u001b[33m'\u001b[39m\u001b[33mlayernorm.weight\u001b[39m\u001b[33m'\u001b[39m] = original_model[\u001b[33m'\u001b[39m\u001b[33mcond_stage_model.transformer.text_model.final_layer_norm.weight\u001b[39m\u001b[33m'\u001b[39m]\n\u001b[32m   1008\u001b[39m converted[\u001b[33m'\u001b[39m\u001b[33mclip\u001b[39m\u001b[33m'\u001b[39m][\u001b[33m'\u001b[39m\u001b[33mlayernorm.bias\u001b[39m\u001b[33m'\u001b[39m] = original_model[\u001b[33m'\u001b[39m\u001b[33mcond_stage_model.transformer.text_model.final_layer_norm.bias\u001b[39m\u001b[33m'\u001b[39m]\n\u001b[32m-> \u001b[39m\u001b[32m1009\u001b[39m converted[\u001b[33m'\u001b[39m\u001b[33mdiffusion\u001b[39m\u001b[33m'\u001b[39m][\u001b[33m'\u001b[39m\u001b[33munet.encoders.1.1.attention_1.in_proj.weight\u001b[39m\u001b[33m'\u001b[39m] = \u001b[43mtorch\u001b[49m\u001b[43m.\u001b[49m\u001b[43mcat\u001b[49m\u001b[43m(\u001b[49m\u001b[43m(\u001b[49m\u001b[43moriginal_model\u001b[49m\u001b[43m[\u001b[49m\u001b[33;43m'\u001b[39;49m\u001b[33;43mmodel.diffusion_model.input_blocks.1.1.transformer_blocks.0.attn1.to_q.weight\u001b[39;49m\u001b[33;43m'\u001b[39;49m\u001b[43m]\u001b[49m\u001b[43m,\u001b[49m\u001b[43m \u001b[49m\u001b[43moriginal_model\u001b[49m\u001b[43m[\u001b[49m\u001b[33;43m'\u001b[39;49m\u001b[33;43mmodel.diffusion_model.input_blocks.1.1.transformer_blocks.0.attn1.to_k.weight\u001b[39;49m\u001b[33;43m'\u001b[39;49m\u001b[43m]\u001b[49m\u001b[43m,\u001b[49m\u001b[43m \u001b[49m\u001b[43moriginal_model\u001b[49m\u001b[43m[\u001b[49m\u001b[33;43m'\u001b[39;49m\u001b[33;43mmodel.diffusion_model.input_blocks.1.1.transformer_blocks.0.attn1.to_v.weight\u001b[39;49m\u001b[33;43m'\u001b[39;49m\u001b[43m]\u001b[49m\u001b[43m)\u001b[49m\u001b[43m,\u001b[49m\u001b[43m \u001b[49m\u001b[32;43m0\u001b[39;49m\u001b[43m)\u001b[49m\n\u001b[32m   1010\u001b[39m converted[\u001b[33m'\u001b[39m\u001b[33mdiffusion\u001b[39m\u001b[33m'\u001b[39m][\u001b[33m'\u001b[39m\u001b[33munet.encoders.2.1.attention_1.in_proj.weight\u001b[39m\u001b[33m'\u001b[39m] = torch.cat((original_model[\u001b[33m'\u001b[39m\u001b[33mmodel.diffusion_model.input_blocks.2.1.transformer_blocks.0.attn1.to_q.weight\u001b[39m\u001b[33m'\u001b[39m], original_model[\u001b[33m'\u001b[39m\u001b[33mmodel.diffusion_model.input_blocks.2.1.transformer_blocks.0.attn1.to_k.weight\u001b[39m\u001b[33m'\u001b[39m], original_model[\u001b[33m'\u001b[39m\u001b[33mmodel.diffusion_model.input_blocks.2.1.transformer_blocks.0.attn1.to_v.weight\u001b[39m\u001b[33m'\u001b[39m]), \u001b[32m0\u001b[39m)\n\u001b[32m   1011\u001b[39m converted[\u001b[33m'\u001b[39m\u001b[33mdiffusion\u001b[39m\u001b[33m'\u001b[39m][\u001b[33m'\u001b[39m\u001b[33munet.encoders.4.1.attention_1.in_proj.weight\u001b[39m\u001b[33m'\u001b[39m] = torch.cat((original_model[\u001b[33m'\u001b[39m\u001b[33mmodel.diffusion_model.input_blocks.4.1.transformer_blocks.0.attn1.to_q.weight\u001b[39m\u001b[33m'\u001b[39m], original_model[\u001b[33m'\u001b[39m\u001b[33mmodel.diffusion_model.input_blocks.4.1.transformer_blocks.0.attn1.to_k.weight\u001b[39m\u001b[33m'\u001b[39m], original_model[\u001b[33m'\u001b[39m\u001b[33mmodel.diffusion_model.input_blocks.4.1.transformer_blocks.0.attn1.to_v.weight\u001b[39m\u001b[33m'\u001b[39m]), \u001b[32m0\u001b[39m)\n",
      "\u001b[31mAcceleratorError\u001b[39m: HIP error: invalid device function\nSearch for `hipErrorInvalidDeviceFunction' in https://docs.nvidia.com/cuda/cuda-runtime-api/group__HIPRT__TYPES.html for more information.\nHIP kernel errors might be asynchronously reported at some other API call, so the stacktrace below might be incorrect.\nFor debugging consider passing AMD_SERIALIZE_KERNEL=3\nCompile with `TORCH_USE_HIP_DSA` to enable device-side assertions.\n"
     ]
    }
   ],
   "source": [
    "import model_loader\n",
    "import pipeline\n",
    "from PIL import Image\n",
    "from transformers import CLIPTokenizer\n",
    "import torch\n",
    "\n",
    "ALLOW_CUDA = False\n",
    "ALLOW_MPS = True\n",
    "\n",
    "if torch.cuda.is_available() and ALLOW_CUDA:\n",
    "    device = \"cuda\"\n",
    "elif torch.backends.mps.is_available() and ALLOW_MPS:\n",
    "    device = \"mps\"\n",
    "else:\n",
    "    device = \"cpu\"\n",
    "\n",
    "print(f\"Using device: {device}\")\n",
    "\n",
    "tokenizer = CLIPTokenizer(\"../data/vocab.json\", merges_file=\"../data/tokenizer_merges.txt\")\n",
    "model_file = \"../data/v1-5-pruned-emaonly.ckpt\"\n",
    "models = model_loader.preload_models_from_standard_weights(model_file, device)"
   ]
  },
  {
   "cell_type": "code",
   "execution_count": null,
   "id": "dc97acd8",
   "metadata": {},
   "outputs": [],
   "source": [
    "# TEXT TO IMAGE\n",
    "\n",
    "prompt = \"A street lamp\"\n",
    "uncond_prompt = \"A table lamp\"\n",
    "do_cfg = True\n",
    "cfg_scale = 7"
   ]
  },
  {
   "cell_type": "code",
   "execution_count": null,
   "id": "08d3dd54",
   "metadata": {},
   "outputs": [],
   "source": [
    "# IMAGE to IMAGE\n",
    "\n",
    "input_image = None\n",
    "image_path = \"../data/dog.jpg\"\n",
    "strength = 0.9"
   ]
  },
  {
   "cell_type": "code",
   "execution_count": null,
   "id": "5eaa54a3",
   "metadata": {},
   "outputs": [],
   "source": [
    "sampler = \"ddpm\"\n",
    "num_inference_steps = 50\n",
    "seed = 42\n",
    "\n",
    "output_image = pipeline.generate(\n",
    "    prompt=prompt,\n",
    "    uncond_prompt=uncond_prompt,\n",
    "    input_image=input_image,\n",
    "    do_cfg=do_cfg,\n",
    "    cfg_scale=cfg_scale,\n",
    "    sampler_name=sampler,\n",
    "    n_inference_steps=num_inference_steps,\n",
    "    seed=seed,\n",
    "    models=models,\n",
    "    device=device,\n",
    "    idle_device=\"cpu\",\n",
    "    tokenizer=tokenizer\n",
    ")\n",
    "\n",
    "Image.fromarray(output_image)"
   ]
  }
 ],
 "metadata": {
  "kernelspec": {
   "display_name": "diffusion",
   "language": "python",
   "name": "python3"
  },
  "language_info": {
   "codemirror_mode": {
    "name": "ipython",
    "version": 3
   },
   "file_extension": ".py",
   "mimetype": "text/x-python",
   "name": "python",
   "nbconvert_exporter": "python",
   "pygments_lexer": "ipython3",
   "version": "3.13.5"
  }
 },
 "nbformat": 4,
 "nbformat_minor": 5
}
